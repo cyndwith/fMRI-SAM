{
  "nbformat": 4,
  "nbformat_minor": 0,
  "metadata": {
    "colab": {
      "provenance": []
    },
    "kernelspec": {
      "name": "python3",
      "display_name": "Python 3"
    },
    "language_info": {
      "name": "python"
    }
  },
  "cells": [
    {
      "cell_type": "code",
      "execution_count": null,
      "metadata": {
        "colab": {
          "base_uri": "https://localhost:8080/"
        },
        "id": "6ouY7x0yLNVy",
        "outputId": "c389d201-66d2-45fa-b30f-1b380a46e061"
      },
      "outputs": [
        {
          "output_type": "stream",
          "name": "stdout",
          "text": [
            "Mounted at /content/gdrive\n"
          ]
        }
      ],
      "source": [
        "from google.colab import drive\n",
        "drive.mount('/content/gdrive')\n",
        "workspace = '/content/gdrive/MyDrive/DeepGC/fMRI-SAM'"
      ]
    },
    {
      "cell_type": "code",
      "source": [
        "import numpy as np\n",
        "def calculate_iou(mask1, mask2):\n",
        "    # Ensure the masks have the same shape\n",
        "    if mask1.shape != mask2.shape:\n",
        "        raise ValueError(\"Mask shapes do not match.\")\n",
        "    # Convert masks to binary arrays (0 for background, 1 for foreground)\n",
        "    mask1_bin = (mask1 > 0).astype(np.uint8)\n",
        "    mask2_bin = (mask2 > 0).astype(np.uint8)\n",
        "    # Calculate the intersection and union\n",
        "    intersection = np.logical_and(mask1_bin, mask2_bin).sum()\n",
        "    union = np.logical_or(mask1_bin, mask2_bin).sum()\n",
        "    # Calculate IoU\n",
        "    iou = intersection / (union + 1e-8)  # Add a small epsilon to avoid division by zero\n",
        "    return iou"
      ],
      "metadata": {
        "id": "X0Uw4DPQPXvU"
      },
      "execution_count": null,
      "outputs": []
    },
    {
      "cell_type": "code",
      "source": [
        "import os\n",
        "import cv2\n",
        "dataset1 = workspace + '/fMRI_SAM_Masks_axial'\n",
        "dataset2 = workspace + '/fMRI_Manual_Masks_axial'\n",
        "files_list = os.listdir(dataset1)\n",
        "print(files_list)\n",
        "iou_list = []\n",
        "for input_file in files_list:\n",
        "  if 'axial_mask' in input_file:\n",
        "    input_path1 = dataset1 + '/' + input_file\n",
        "    input_path2 = dataset2 + '/' + input_file\n",
        "    print(input_path1, input_path2)\n",
        "    input_mask1 = cv2.imread(input_path1)\n",
        "    input_mask2 = cv2.imread(input_path2)\n",
        "    iou = calculate_iou(input_mask1, input_mask2)\n",
        "    iou_list.append(iou)\n",
        "    print('{} IoU: {}'.format(input_file, iou))\n",
        "\n",
        "print('Mean IoU: ', np.array(iou_list).mean())\n"
      ],
      "metadata": {
        "colab": {
          "base_uri": "https://localhost:8080/"
        },
        "id": "b-TjUvrKPeDH",
        "outputId": "e43ff07c-95e9-4c81-f066-e599a0c52853"
      },
      "execution_count": null,
      "outputs": [
        {
          "output_type": "stream",
          "name": "stdout",
          "text": [
            "['sub-01_ses-003__axial_anns.jpg', 'sub-01_ses-003__axial.jpg', 'sub-01_ses-003__axial_mask.jpg', 'sub-01_ses-001__axial_anns.jpg', 'sub-01_ses-001__axial.jpg', 'sub-01_ses-001__axial_mask.jpg', 'sub-01_ses-002__axial_anns.jpg', 'sub-01_ses-002__axial_mask.jpg', 'sub-01_ses-002__axial.jpg', 'sub-02_ses-001__axial_anns.jpg', 'sub-02_ses-001__axial.jpg', 'sub-02_ses-001__axial_mask.jpg', 'sub-02_ses-002__axial_anns.jpg', 'sub-02_ses-002__axial.jpg', 'sub-02_ses-002__axial_mask.jpg', 'sub-01_ses-005__axial_anns.jpg', 'sub-01_ses-005__axial.jpg', 'sub-01_ses-005__axial_mask.jpg', 'sub-01_ses-004__axial_anns.jpg', 'sub-01_ses-004__axial_mask.jpg', 'sub-01_ses-004__axial.jpg', 'sub-02_ses-004__axial_anns.jpg', 'sub-02_ses-004__axial_mask.jpg', 'sub-02_ses-004__axial.jpg', 'sub-02_ses-003__axial_anns.jpg', 'sub-02_ses-003__axial_mask.jpg', 'sub-02_ses-003__axial.jpg', 'sub-02_ses-005__axial_anns.jpg', 'sub-02_ses-005__axial_mask.jpg', 'sub-02_ses-005__axial.jpg']\n",
            "/content/gdrive/MyDrive/DeepGC/fMRI-SAM/fMRI_SAM_Masks_axial/sub-01_ses-003__axial_mask.jpg /content/gdrive/MyDrive/DeepGC/fMRI-SAM/fMRI_Manual_Masks_axial/sub-01_ses-003__axial_mask.jpg\n",
            "sub-01_ses-003__axial_mask.jpg IoU: 0.8441228542837108\n",
            "/content/gdrive/MyDrive/DeepGC/fMRI-SAM/fMRI_SAM_Masks_axial/sub-01_ses-001__axial_mask.jpg /content/gdrive/MyDrive/DeepGC/fMRI-SAM/fMRI_Manual_Masks_axial/sub-01_ses-001__axial_mask.jpg\n",
            "sub-01_ses-001__axial_mask.jpg IoU: 0.8498277508697486\n",
            "/content/gdrive/MyDrive/DeepGC/fMRI-SAM/fMRI_SAM_Masks_axial/sub-01_ses-002__axial_mask.jpg /content/gdrive/MyDrive/DeepGC/fMRI-SAM/fMRI_Manual_Masks_axial/sub-01_ses-002__axial_mask.jpg\n",
            "sub-01_ses-002__axial_mask.jpg IoU: 0.6776207860250536\n",
            "/content/gdrive/MyDrive/DeepGC/fMRI-SAM/fMRI_SAM_Masks_axial/sub-02_ses-001__axial_mask.jpg /content/gdrive/MyDrive/DeepGC/fMRI-SAM/fMRI_Manual_Masks_axial/sub-02_ses-001__axial_mask.jpg\n",
            "sub-02_ses-001__axial_mask.jpg IoU: 0.8523330196810011\n",
            "/content/gdrive/MyDrive/DeepGC/fMRI-SAM/fMRI_SAM_Masks_axial/sub-02_ses-002__axial_mask.jpg /content/gdrive/MyDrive/DeepGC/fMRI-SAM/fMRI_Manual_Masks_axial/sub-02_ses-002__axial_mask.jpg\n",
            "sub-02_ses-002__axial_mask.jpg IoU: 0.8604559686580324\n",
            "/content/gdrive/MyDrive/DeepGC/fMRI-SAM/fMRI_SAM_Masks_axial/sub-01_ses-005__axial_mask.jpg /content/gdrive/MyDrive/DeepGC/fMRI-SAM/fMRI_Manual_Masks_axial/sub-01_ses-005__axial_mask.jpg\n",
            "sub-01_ses-005__axial_mask.jpg IoU: 0.8498473399627916\n",
            "/content/gdrive/MyDrive/DeepGC/fMRI-SAM/fMRI_SAM_Masks_axial/sub-01_ses-004__axial_mask.jpg /content/gdrive/MyDrive/DeepGC/fMRI-SAM/fMRI_Manual_Masks_axial/sub-01_ses-004__axial_mask.jpg\n",
            "sub-01_ses-004__axial_mask.jpg IoU: 0.846763382374264\n",
            "/content/gdrive/MyDrive/DeepGC/fMRI-SAM/fMRI_SAM_Masks_axial/sub-02_ses-004__axial_mask.jpg /content/gdrive/MyDrive/DeepGC/fMRI-SAM/fMRI_Manual_Masks_axial/sub-02_ses-004__axial_mask.jpg\n",
            "sub-02_ses-004__axial_mask.jpg IoU: 0.849494463168008\n",
            "/content/gdrive/MyDrive/DeepGC/fMRI-SAM/fMRI_SAM_Masks_axial/sub-02_ses-003__axial_mask.jpg /content/gdrive/MyDrive/DeepGC/fMRI-SAM/fMRI_Manual_Masks_axial/sub-02_ses-003__axial_mask.jpg\n",
            "sub-02_ses-003__axial_mask.jpg IoU: 0.838587860583534\n",
            "/content/gdrive/MyDrive/DeepGC/fMRI-SAM/fMRI_SAM_Masks_axial/sub-02_ses-005__axial_mask.jpg /content/gdrive/MyDrive/DeepGC/fMRI-SAM/fMRI_Manual_Masks_axial/sub-02_ses-005__axial_mask.jpg\n",
            "sub-02_ses-005__axial_mask.jpg IoU: 0.8593530793360326\n",
            "Mean IoU:  0.8328406504942176\n"
          ]
        }
      ]
    },
    {
      "cell_type": "code",
      "source": [
        "import os\n",
        "import cv2\n",
        "dataset1 = workspace + '/fMRI_SAM_Masks_sagittal'\n",
        "dataset2 = workspace + '/fMRI_Manual_Masks_sagittal'\n",
        "files_list = os.listdir(dataset1)\n",
        "print(files_list)\n",
        "iou_list = []\n",
        "for input_file in files_list:\n",
        "  if 'sagittal_mask' in input_file:\n",
        "    input_path1 = dataset1 + '/' + input_file\n",
        "    input_path2 = dataset2 + '/' + input_file\n",
        "    print(input_path1, input_path2)\n",
        "    input_mask1 = cv2.imread(input_path1)\n",
        "    input_mask2 = cv2.imread(input_path2)\n",
        "    iou = calculate_iou(input_mask1, input_mask2)\n",
        "    iou_list.append(iou)\n",
        "    print('{} IoU: {}'.format(input_file, iou))\n",
        "\n",
        "print('Mean IoU: ', np.array(iou_list).mean())"
      ],
      "metadata": {
        "colab": {
          "base_uri": "https://localhost:8080/"
        },
        "id": "wOJKxhOp41Pi",
        "outputId": "6f59d177-3962-4c52-96a7-158951fb383b"
      },
      "execution_count": null,
      "outputs": [
        {
          "output_type": "stream",
          "name": "stdout",
          "text": [
            "['sub-03_ses-002__sagittal.jpg', 'sub-03_ses-004__sagittal.jpg', 'sub-02_ses-002__sagittal_anns.jpg', 'sub-01_ses-005__sagittal_anns.jpg', 'sub-03_ses-004__sagittal_anns.jpg', 'sub-03_ses-003__sagittal.jpg', 'sub-03_ses-003__sagittal_mask.jpg', 'sub-03_ses-001__sagittal_anns.jpg', 'sub-04_ses-004__sagittal_anns.jpg', 'sub-02_ses-005__sagittal.jpg', 'sub-02_ses-003__sagittal_mask.jpg', 'sub-02_ses-005__sagittal_anns.jpg', 'sub-02_ses-002__sagittal.jpg', 'sub-02_ses-004__sagittal_anns.jpg', 'sub-03_ses-002__sagittal_anns.jpg', 'sub-02_ses-003__sagittal.jpg', 'sub-02_ses-005__sagittal_mask.jpg', 'sub-03_ses-002__sagittal_mask.jpg', 'sub-02_ses-004__sagittal_mask.jpg', 'sub-03_ses-001__sagittal_mask.jpg', 'sub-03_ses-003__sagittal_anns.jpg', 'sub-02_ses-003__sagittal_anns.jpg', 'sub-01_ses-005__sagittal.jpg', 'sub-01_ses-005__sagittal_mask.jpg', 'sub-04_ses-004__sagittal_mask.jpg', 'sub-02_ses-002__sagittal_mask.jpg', 'sub-04_ses-004__sagittal.jpg', 'sub-03_ses-004__sagittal_mask.jpg', 'sub-02_ses-004__sagittal.jpg', 'sub-03_ses-001__sagittal.jpg', '.DS_Store']\n",
            "/content/gdrive/MyDrive/DeepGC/fMRI-SAM/fMRI_SAM_Masks_sagittal/sub-03_ses-003__sagittal_mask.jpg /content/gdrive/MyDrive/DeepGC/fMRI-SAM/fMRI_Manual_Masks_sagittal/sub-03_ses-003__sagittal_mask.jpg\n",
            "sub-03_ses-003__sagittal_mask.jpg IoU: 0.9999999999999702\n",
            "/content/gdrive/MyDrive/DeepGC/fMRI-SAM/fMRI_SAM_Masks_sagittal/sub-02_ses-003__sagittal_mask.jpg /content/gdrive/MyDrive/DeepGC/fMRI-SAM/fMRI_Manual_Masks_sagittal/sub-02_ses-003__sagittal_mask.jpg\n",
            "sub-02_ses-003__sagittal_mask.jpg IoU: 0.7574397800288089\n",
            "/content/gdrive/MyDrive/DeepGC/fMRI-SAM/fMRI_SAM_Masks_sagittal/sub-02_ses-005__sagittal_mask.jpg /content/gdrive/MyDrive/DeepGC/fMRI-SAM/fMRI_Manual_Masks_sagittal/sub-02_ses-005__sagittal_mask.jpg\n",
            "sub-02_ses-005__sagittal_mask.jpg IoU: 0.9999999999999669\n",
            "/content/gdrive/MyDrive/DeepGC/fMRI-SAM/fMRI_SAM_Masks_sagittal/sub-03_ses-002__sagittal_mask.jpg /content/gdrive/MyDrive/DeepGC/fMRI-SAM/fMRI_Manual_Masks_sagittal/sub-03_ses-002__sagittal_mask.jpg\n",
            "sub-03_ses-002__sagittal_mask.jpg IoU: 0.7030470156566745\n",
            "/content/gdrive/MyDrive/DeepGC/fMRI-SAM/fMRI_SAM_Masks_sagittal/sub-02_ses-004__sagittal_mask.jpg /content/gdrive/MyDrive/DeepGC/fMRI-SAM/fMRI_Manual_Masks_sagittal/sub-02_ses-004__sagittal_mask.jpg\n",
            "sub-02_ses-004__sagittal_mask.jpg IoU: 0.9999999999999668\n",
            "/content/gdrive/MyDrive/DeepGC/fMRI-SAM/fMRI_SAM_Masks_sagittal/sub-03_ses-001__sagittal_mask.jpg /content/gdrive/MyDrive/DeepGC/fMRI-SAM/fMRI_Manual_Masks_sagittal/sub-03_ses-001__sagittal_mask.jpg\n",
            "sub-03_ses-001__sagittal_mask.jpg IoU: 0.7613416723638574\n",
            "/content/gdrive/MyDrive/DeepGC/fMRI-SAM/fMRI_SAM_Masks_sagittal/sub-01_ses-005__sagittal_mask.jpg /content/gdrive/MyDrive/DeepGC/fMRI-SAM/fMRI_Manual_Masks_sagittal/sub-01_ses-005__sagittal_mask.jpg\n",
            "sub-01_ses-005__sagittal_mask.jpg IoU: 0.5707769276044568\n",
            "/content/gdrive/MyDrive/DeepGC/fMRI-SAM/fMRI_SAM_Masks_sagittal/sub-04_ses-004__sagittal_mask.jpg /content/gdrive/MyDrive/DeepGC/fMRI-SAM/fMRI_Manual_Masks_sagittal/sub-04_ses-004__sagittal_mask.jpg\n",
            "sub-04_ses-004__sagittal_mask.jpg IoU: 0.9999999999999721\n",
            "/content/gdrive/MyDrive/DeepGC/fMRI-SAM/fMRI_SAM_Masks_sagittal/sub-02_ses-002__sagittal_mask.jpg /content/gdrive/MyDrive/DeepGC/fMRI-SAM/fMRI_Manual_Masks_sagittal/sub-02_ses-002__sagittal_mask.jpg\n",
            "sub-02_ses-002__sagittal_mask.jpg IoU: 0.7601874215051441\n",
            "/content/gdrive/MyDrive/DeepGC/fMRI-SAM/fMRI_SAM_Masks_sagittal/sub-03_ses-004__sagittal_mask.jpg /content/gdrive/MyDrive/DeepGC/fMRI-SAM/fMRI_Manual_Masks_sagittal/sub-03_ses-004__sagittal_mask.jpg\n",
            "sub-03_ses-004__sagittal_mask.jpg IoU: 0.9999999999999695\n",
            "Mean IoU:  0.8552792817158787\n"
          ]
        }
      ]
    },
    {
      "cell_type": "code",
      "source": [
        "import os\n",
        "import cv2\n",
        "dataset1 = workspace + '/fMRI_SAM_Masks_coronal'\n",
        "dataset2 = workspace + '/fMRI_Manual_Masks_coronal'\n",
        "files_list = os.listdir(dataset1)\n",
        "print(files_list)\n",
        "iou_list = []\n",
        "for input_file in files_list:\n",
        "  if 'coronal_mask' in input_file:\n",
        "    input_path1 = dataset1 + '/' + input_file\n",
        "    input_path2 = dataset2 + '/' + input_file\n",
        "    print(input_path1, input_path2)\n",
        "    input_mask1 = cv2.imread(input_path1)\n",
        "    input_mask2 = cv2.imread(input_path2)\n",
        "    iou = calculate_iou(input_mask1, input_mask2)\n",
        "    iou_list.append(iou)\n",
        "    print('{} IoU: {}'.format(input_file, iou))\n",
        "\n",
        "print('Mean IoU: ', np.array(iou_list).mean())"
      ],
      "metadata": {
        "colab": {
          "base_uri": "https://localhost:8080/"
        },
        "id": "C5s2-8p85D-F",
        "outputId": "4b3a52ba-c51e-4087-fd27-87007bd4bc2f"
      },
      "execution_count": null,
      "outputs": [
        {
          "output_type": "stream",
          "name": "stdout",
          "text": [
            "['sub-02_ses-001__coronal_anns.jpg', 'sub-02_ses-004__coronal_anns.jpg', 'sub-01_ses-003__coronal_mask.jpg', 'sub-02_ses-005__coronal_anns.jpg', 'sub-01_ses-004__coronal_mask.jpg', 'sub-01_ses-002__coronal.jpg', 'sub-01_ses-002__coronal_mask.jpg', 'sub-01_ses-001__coronal_mask.jpg', 'sub-02_ses-002__coronal_anns.jpg', 'sub-01_ses-005__coronal.jpg', 'sub-02_ses-005__coronal_mask.jpg', 'sub-02_ses-004__coronal_mask.jpg', 'sub-02_ses-001__coronal_mask.jpg', 'sub-01_ses-003__coronal_anns.jpg', 'sub-01_ses-002__coronal_anns.jpg', 'sub-01_ses-005__coronal_anns.jpg', 'sub-02_ses-003__coronal_mask.jpg', 'sub-02_ses-002__coronal.jpg', 'sub-02_ses-005__coronal.jpg', 'sub-01_ses-004__coronal_anns.jpg', 'sub-02_ses-003__coronal.jpg', 'sub-02_ses-004__coronal.jpg', 'sub-02_ses-002__coronal_mask.jpg', 'sub-02_ses-003__coronal_anns.jpg', 'sub-01_ses-001__coronal_anns.jpg', 'sub-02_ses-001__coronal.jpg', 'sub-01_ses-001__coronal.jpg', 'sub-01_ses-003__coronal.jpg', 'sub-01_ses-005__coronal_mask.jpg', 'sub-01_ses-004__coronal.jpg']\n",
            "/content/gdrive/MyDrive/DeepGC/fMRI-SAM/fMRI_SAM_Masks_coronal/sub-01_ses-003__coronal_mask.jpg /content/gdrive/MyDrive/DeepGC/fMRI-SAM/fMRI_Manual_Masks_coronal/sub-01_ses-003__coronal_mask.jpg\n",
            "sub-01_ses-003__coronal_mask.jpg IoU: 0.7634850051706045\n",
            "/content/gdrive/MyDrive/DeepGC/fMRI-SAM/fMRI_SAM_Masks_coronal/sub-01_ses-004__coronal_mask.jpg /content/gdrive/MyDrive/DeepGC/fMRI-SAM/fMRI_Manual_Masks_coronal/sub-01_ses-004__coronal_mask.jpg\n",
            "sub-01_ses-004__coronal_mask.jpg IoU: 0.9999999999999618\n",
            "/content/gdrive/MyDrive/DeepGC/fMRI-SAM/fMRI_SAM_Masks_coronal/sub-01_ses-002__coronal_mask.jpg /content/gdrive/MyDrive/DeepGC/fMRI-SAM/fMRI_Manual_Masks_coronal/sub-01_ses-002__coronal_mask.jpg\n",
            "sub-01_ses-002__coronal_mask.jpg IoU: 0.6346525330770444\n",
            "/content/gdrive/MyDrive/DeepGC/fMRI-SAM/fMRI_SAM_Masks_coronal/sub-01_ses-001__coronal_mask.jpg /content/gdrive/MyDrive/DeepGC/fMRI-SAM/fMRI_Manual_Masks_coronal/sub-01_ses-001__coronal_mask.jpg\n",
            "sub-01_ses-001__coronal_mask.jpg IoU: 0.7379453758888722\n",
            "/content/gdrive/MyDrive/DeepGC/fMRI-SAM/fMRI_SAM_Masks_coronal/sub-02_ses-005__coronal_mask.jpg /content/gdrive/MyDrive/DeepGC/fMRI-SAM/fMRI_Manual_Masks_coronal/sub-02_ses-005__coronal_mask.jpg\n",
            "sub-02_ses-005__coronal_mask.jpg IoU: 0.8313197185515465\n",
            "/content/gdrive/MyDrive/DeepGC/fMRI-SAM/fMRI_SAM_Masks_coronal/sub-02_ses-004__coronal_mask.jpg /content/gdrive/MyDrive/DeepGC/fMRI-SAM/fMRI_Manual_Masks_coronal/sub-02_ses-004__coronal_mask.jpg\n",
            "sub-02_ses-004__coronal_mask.jpg IoU: 0.8150206007556228\n",
            "/content/gdrive/MyDrive/DeepGC/fMRI-SAM/fMRI_SAM_Masks_coronal/sub-02_ses-001__coronal_mask.jpg /content/gdrive/MyDrive/DeepGC/fMRI-SAM/fMRI_Manual_Masks_coronal/sub-02_ses-001__coronal_mask.jpg\n",
            "sub-02_ses-001__coronal_mask.jpg IoU: 0.8272577742182485\n",
            "/content/gdrive/MyDrive/DeepGC/fMRI-SAM/fMRI_SAM_Masks_coronal/sub-02_ses-003__coronal_mask.jpg /content/gdrive/MyDrive/DeepGC/fMRI-SAM/fMRI_Manual_Masks_coronal/sub-02_ses-003__coronal_mask.jpg\n",
            "sub-02_ses-003__coronal_mask.jpg IoU: 0.8182060085836675\n",
            "/content/gdrive/MyDrive/DeepGC/fMRI-SAM/fMRI_SAM_Masks_coronal/sub-02_ses-002__coronal_mask.jpg /content/gdrive/MyDrive/DeepGC/fMRI-SAM/fMRI_Manual_Masks_coronal/sub-02_ses-002__coronal_mask.jpg\n",
            "sub-02_ses-002__coronal_mask.jpg IoU: 0.9999999999999707\n",
            "/content/gdrive/MyDrive/DeepGC/fMRI-SAM/fMRI_SAM_Masks_coronal/sub-01_ses-005__coronal_mask.jpg /content/gdrive/MyDrive/DeepGC/fMRI-SAM/fMRI_Manual_Masks_coronal/sub-01_ses-005__coronal_mask.jpg\n",
            "sub-01_ses-005__coronal_mask.jpg IoU: 0.7701573521432215\n",
            "Mean IoU:  0.819804436838876\n"
          ]
        }
      ]
    }
  ]
}